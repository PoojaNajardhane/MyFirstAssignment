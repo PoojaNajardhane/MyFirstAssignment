{
 "cells": [
  {
   "cell_type": "code",
   "execution_count": null,
   "id": "82d330b2-f7c8-4fca-aef0-488b38dfc6a6",
   "metadata": {},
   "outputs": [],
   "source": [
    "#Topic 1"
   ]
  },
  {
   "cell_type": "code",
   "execution_count": 1,
   "id": "3431e018-c770-4608-bac5-2064ef200382",
   "metadata": {},
   "outputs": [
    {
     "name": "stdin",
     "output_type": "stream",
     "text": [
      "enter the value of x  45\n",
      "enter the value of y  67\n"
     ]
    },
    {
     "name": "stdout",
     "output_type": "stream",
     "text": [
      "x after swapping :  67\n",
      "y after swapping :  45\n"
     ]
    }
   ],
   "source": [
    "#Declare two variables, x and y, and assign them integer values. Swap the values of these variables without using any temporary variable.\n",
    "x=int(input(\"enter the value of x \"))\n",
    "y=int(input(\"enter the value of y \"))\n",
    "x=x+y\n",
    "y=x-y\n",
    "x=x-y\n",
    "print(\"x after swapping : \",x)\n",
    "print(\"y after swapping : \",y)"
   ]
  },
  {
   "cell_type": "code",
   "execution_count": 2,
   "id": "48339618-59c2-4c6c-9e17-0d89471388e9",
   "metadata": {},
   "outputs": [
    {
     "name": "stdin",
     "output_type": "stream",
     "text": [
      "enter the length of the rectangla : 45\n",
      "enter the width of the rectangla : 3\n"
     ]
    },
    {
     "name": "stdout",
     "output_type": "stream",
     "text": [
      "the area of the rectangle is : 135\n"
     ]
    }
   ],
   "source": [
    "#Create a program that calculates the area of a rectangle. Take the length and width as inputs from the user and store them in variables. Calculate and display the area.\n",
    "length=int(input(\"enter the length of the rectangla :\"))\n",
    "width=int(input(\"enter the width of the rectangla :\"))\n",
    "area=length*width\n",
    "print(\"the area of the rectangle is :\",area)\n"
   ]
  },
  {
   "cell_type": "code",
   "execution_count": 3,
   "id": "ebb3d705-d956-4ded-bbaa-2e2cc70ad1aa",
   "metadata": {},
   "outputs": [
    {
     "name": "stdin",
     "output_type": "stream",
     "text": [
      "enter the temperature in celsius 45\n"
     ]
    },
    {
     "name": "stdout",
     "output_type": "stream",
     "text": [
      "temperature in fahrenheit :  113.0\n"
     ]
    }
   ],
   "source": [
    "#Write a Python program that converts temperatures from Celsius to Fahrenheit. Take the temperature in Celsius as input, store it in a variable, convert it to Fahrenheit, and display the result.\n",
    "celsius=int(input(\"enter the temperature in celsius\"))\n",
    "fahrenheit=(celsius*9/5)+32\n",
    "print(\"temperature in fahrenheit : \",fahrenheit)"
   ]
  },
  {
   "cell_type": "code",
   "execution_count": null,
   "id": "85ecb84e-c4d9-400b-ac36-375176bd31eb",
   "metadata": {},
   "outputs": [],
   "source": [
    "#Topic 2"
   ]
  },
  {
   "cell_type": "code",
   "execution_count": 4,
   "id": "301b4ed6-e57b-4311-9a0f-8be2e8721b9e",
   "metadata": {},
   "outputs": [
    {
     "name": "stdin",
     "output_type": "stream",
     "text": [
      "enter the string :  poojanajardhane\n"
     ]
    },
    {
     "name": "stdout",
     "output_type": "stream",
     "text": [
      "length of string :  15\n"
     ]
    }
   ],
   "source": [
    "#Write a Python program that takes a string as input and prints the length of\n",
    "the string.\n",
    "input_string=input(\"enter the string : \")\n",
    "string_length=len(input_string)\n",
    "print(\"length of string : \",string_length)"
   ]
  },
  {
   "cell_type": "code",
   "execution_count": 5,
   "id": "c0dc26b5-386a-48a4-b95f-21dfa417a603",
   "metadata": {},
   "outputs": [
    {
     "name": "stdin",
     "output_type": "stream",
     "text": [
      "enter a sentence :  poojanajarahdne\n"
     ]
    },
    {
     "name": "stdout",
     "output_type": "stream",
     "text": [
      "number of vowel in a sentence are:  7\n"
     ]
    }
   ],
   "source": [
    "#Create a program that takes a sentence from the user and counts the number of vowels (a, e, i, o, u) in the string.\n",
    "sentence=input(\"enter a sentence : \")\n",
    "sentence=sentence.lower()\n",
    "vowel_count=0\n",
    "for char in sentence :\n",
    "    if char in \"aeiou\":\n",
    "        vowel_count+=1\n",
    "print(\"number of vowel in a sentence are: \", vowel_count)"
   ]
  },
  {
   "cell_type": "code",
   "execution_count": 6,
   "id": "e907bb87-68ee-472e-918b-62f2fa868395",
   "metadata": {},
   "outputs": [
    {
     "name": "stdin",
     "output_type": "stream",
     "text": [
      "enter a string : najardhane\n"
     ]
    },
    {
     "name": "stdout",
     "output_type": "stream",
     "text": [
      "reversed string : enahdrajan\n"
     ]
    }
   ],
   "source": [
    "#Given a string, reverse the order of characters using string slicing and print the reversed string.\n",
    "input_string=input(\"enter a string :\")\n",
    "reversed_string=input_string[::-1]\n",
    "print(\"reversed string :\", reversed_string)"
   ]
  },
  {
   "cell_type": "code",
   "execution_count": 7,
   "id": "4da43cfb-62d3-4734-b6f7-fcde1452f65f",
   "metadata": {},
   "outputs": [
    {
     "name": "stdin",
     "output_type": "stream",
     "text": [
      "enter a string: najarhande\n"
     ]
    },
    {
     "name": "stdout",
     "output_type": "stream",
     "text": [
      "the string is not a palindrome.\n"
     ]
    }
   ],
   "source": [
    "#Write a program that takes a string as input and checks if it is a palindrome (reads the same forwards and backwards).\n",
    "input_string=input(\"enter a string:\")\n",
    "reversed_string=input_string[::-1]\n",
    "if input_string==reversed_string:\n",
    "    print(\"the stringis a palindrome.\")\n",
    "else:\n",
    "    print(\"the string is not a palindrome.\")"
   ]
  },
  {
   "cell_type": "code",
   "execution_count": 8,
   "id": "69dd4258-251d-425c-accb-431d2280ffa6",
   "metadata": {},
   "outputs": [
    {
     "name": "stdin",
     "output_type": "stream",
     "text": [
      "enter a string : pooja najarhdne\n"
     ]
    },
    {
     "name": "stdout",
     "output_type": "stream",
     "text": [
      "modified string without space : poojanajarhdne\n"
     ]
    }
   ],
   "source": [
    "#Create a program that takes a string as input and removes all the spaces from it. Print the modified string without spaces.\n",
    "input_string=input(\"enter a string :\")\n",
    "modified_string=input_string.replace(\" \",\"\")\n",
    "print(\"modified string without space :\",modified_string)"
   ]
  },
  {
   "cell_type": "code",
   "execution_count": null,
   "id": "98e5bc57-bf45-4f4d-ac44-2637e132402a",
   "metadata": {},
   "outputs": [],
   "source": []
  }
 ],
 "metadata": {
  "kernelspec": {
   "display_name": "Python 3 (ipykernel)",
   "language": "python",
   "name": "python3"
  },
  "language_info": {
   "codemirror_mode": {
    "name": "ipython",
    "version": 3
   },
   "file_extension": ".py",
   "mimetype": "text/x-python",
   "name": "python",
   "nbconvert_exporter": "python",
   "pygments_lexer": "ipython3",
   "version": "3.10.8"
  }
 },
 "nbformat": 4,
 "nbformat_minor": 5
}
